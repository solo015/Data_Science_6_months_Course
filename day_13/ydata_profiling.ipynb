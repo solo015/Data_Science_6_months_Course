{
 "cells": [
  {
   "cell_type": "markdown",
   "id": "d433afe2",
   "metadata": {},
   "source": [
    "# Automatic EDA using `ydata-profiling`"
   ]
  },
  {
   "cell_type": "code",
   "execution_count": null,
   "id": "b9ca738b",
   "metadata": {},
   "outputs": [],
   "source": [
    "# %pip install ydata-profiling\n"
   ]
  },
  {
   "cell_type": "code",
   "execution_count": 12,
   "id": "024d2056",
   "metadata": {},
   "outputs": [],
   "source": [
    "# import libraries\n",
    "import pandas as pd\n",
    "import seaborn as sns\n",
    "import ydata_profiling as yd"
   ]
  },
  {
   "cell_type": "code",
   "execution_count": 9,
   "id": "ca104245",
   "metadata": {},
   "outputs": [],
   "source": [
    "# import datset from seaborn\n",
    "df = sns.load_dataset('titanic')"
   ]
  },
  {
   "cell_type": "code",
   "execution_count": 17,
   "id": "3996c28b",
   "metadata": {},
   "outputs": [
    {
     "data": {
      "application/vnd.jupyter.widget-view+json": {
       "model_id": "7c4fa69590b143549f5b948013719502",
       "version_major": 2,
       "version_minor": 0
      },
      "text/plain": [
       "Summarize dataset:   0%|          | 0/5 [00:00<?, ?it/s]"
      ]
     },
     "metadata": {},
     "output_type": "display_data"
    },
    {
     "data": {
      "application/vnd.jupyter.widget-view+json": {
       "model_id": "b3895cf1c91f463cb6a436594d9b24f5",
       "version_major": 2,
       "version_minor": 0
      },
      "text/plain": [
       "Generate report structure:   0%|          | 0/1 [00:00<?, ?it/s]"
      ]
     },
     "metadata": {},
     "output_type": "display_data"
    },
    {
     "data": {
      "application/vnd.jupyter.widget-view+json": {
       "model_id": "4495c5a0dc48483fba702a43cd61a822",
       "version_major": 2,
       "version_minor": 0
      },
      "text/plain": [
       "Render HTML:   0%|          | 0/1 [00:00<?, ?it/s]"
      ]
     },
     "metadata": {},
     "output_type": "display_data"
    },
    {
     "data": {
      "application/vnd.jupyter.widget-view+json": {
       "model_id": "d676639c926d427a8b37f399a1af924b",
       "version_major": 2,
       "version_minor": 0
      },
      "text/plain": [
       "Export report to file:   0%|          | 0/1 [00:00<?, ?it/s]"
      ]
     },
     "metadata": {},
     "output_type": "display_data"
    }
   ],
   "source": [
    "# ydata profile report\n",
    "profile = yd.ProfileReport(df)\n",
    "\n",
    "profile.to_file(output_file = './outputs/ydata_titanic.html')"
   ]
  },
  {
   "cell_type": "markdown",
   "id": "1e6f93c6",
   "metadata": {},
   "source": [
    "# Do it on our Pak Population Dataset"
   ]
  },
  {
   "cell_type": "code",
   "execution_count": 23,
   "id": "76647bb3",
   "metadata": {},
   "outputs": [
    {
     "data": {
      "application/vnd.jupyter.widget-view+json": {
       "model_id": "524cc960b3dd49c795200d6bf07c61e1",
       "version_major": 2,
       "version_minor": 0
      },
      "text/plain": [
       "Summarize dataset:   0%|          | 0/5 [00:00<?, ?it/s]"
      ]
     },
     "metadata": {},
     "output_type": "display_data"
    },
    {
     "data": {
      "application/vnd.jupyter.widget-view+json": {
       "model_id": "10b7353ace48475d9a565f95728bbe7f",
       "version_major": 2,
       "version_minor": 0
      },
      "text/plain": [
       "Generate report structure:   0%|          | 0/1 [00:00<?, ?it/s]"
      ]
     },
     "metadata": {},
     "output_type": "display_data"
    },
    {
     "data": {
      "application/vnd.jupyter.widget-view+json": {
       "model_id": "fa7503e27d324474ba6586ab43a65066",
       "version_major": 2,
       "version_minor": 0
      },
      "text/plain": [
       "Render HTML:   0%|          | 0/1 [00:00<?, ?it/s]"
      ]
     },
     "metadata": {},
     "output_type": "display_data"
    },
    {
     "data": {
      "application/vnd.jupyter.widget-view+json": {
       "model_id": "2bee2c271cf047a8a005bce0f2374457",
       "version_major": 2,
       "version_minor": 0
      },
      "text/plain": [
       "Export report to file:   0%|          | 0/1 [00:00<?, ?it/s]"
      ]
     },
     "metadata": {},
     "output_type": "display_data"
    }
   ],
   "source": [
    "# ydata profile report of Pakistan Population\n",
    "df_pop = pd.read_csv('pk_data.csv')\n",
    "\n",
    "profile = yd.ProfileReport(df_pop)\n",
    "\n",
    "profile.to_file(output_file = './outputs/pak_ydata.html')"
   ]
  }
 ],
 "metadata": {
  "kernelspec": {
   "display_name": "myenv",
   "language": "python",
   "name": "python3"
  },
  "language_info": {
   "codemirror_mode": {
    "name": "ipython",
    "version": 3
   },
   "file_extension": ".py",
   "mimetype": "text/x-python",
   "name": "python",
   "nbconvert_exporter": "python",
   "pygments_lexer": "ipython3",
   "version": "3.12.9"
  }
 },
 "nbformat": 4,
 "nbformat_minor": 5
}
