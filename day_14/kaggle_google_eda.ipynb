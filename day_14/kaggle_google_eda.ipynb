{
 "cells": [
  {
   "cell_type": "markdown",
   "id": "5ead8a09",
   "metadata": {},
   "source": [
    "# Google App Store EDA"
   ]
  },
  {
   "cell_type": "markdown",
   "id": "f0589cf7",
   "metadata": {},
   "source": [
    "# Assignment:\n",
    "1. Download the data\n",
    "2. Extract data from zip file\n",
    "3. read the data into python pandas\n",
    "4. Check each column\n",
    "5. Define each column in MD style"
   ]
  },
  {
   "cell_type": "code",
   "execution_count": 396,
   "id": "5bca4398",
   "metadata": {},
   "outputs": [],
   "source": [
    "# %pip install ydata_profiling"
   ]
  },
  {
   "cell_type": "code",
   "execution_count": 397,
   "id": "437c0faf",
   "metadata": {},
   "outputs": [],
   "source": [
    "# import libraries\n",
    "import pandas as pd\n",
    "import seaborn as sns\n",
    "import numpy as np\n",
    "import matplotlib.pyplot as plt "
   ]
  },
  {
   "cell_type": "code",
   "execution_count": 398,
   "id": "a3d18f7e",
   "metadata": {},
   "outputs": [],
   "source": [
    "# import dataset\n",
    "\n",
    "df = pd.read_csv('./data/googleplaystore.csv')"
   ]
  },
  {
   "cell_type": "code",
   "execution_count": 399,
   "id": "31634210",
   "metadata": {},
   "outputs": [],
   "source": [
    "# commit out if you donot want to run automatic EDA Profiling\n",
    "\n",
    "# # Run automatic EDA using ydata profiling\n",
    "\n",
    "\n",
    "# # import library\n",
    "# import ydata_profiling as yd\n",
    "\n",
    "# profile = yd.ProfileReport(df)\n",
    "\n",
    "# profile.to_file(output_file = './data/ydata_googleplaystore_kaggle.html')"
   ]
  },
  {
   "cell_type": "code",
   "execution_count": 400,
   "id": "da42ec37",
   "metadata": {},
   "outputs": [
    {
     "name": "stdout",
     "output_type": "stream",
     "text": [
      "<class 'pandas.core.frame.DataFrame'>\n",
      "RangeIndex: 10841 entries, 0 to 10840\n",
      "Data columns (total 13 columns):\n",
      " #   Column          Non-Null Count  Dtype  \n",
      "---  ------          --------------  -----  \n",
      " 0   App             10841 non-null  object \n",
      " 1   Category        10840 non-null  object \n",
      " 2   Rating          9367 non-null   float64\n",
      " 3   Reviews         10841 non-null  int64  \n",
      " 4   Size            10841 non-null  object \n",
      " 5   Installs        10841 non-null  object \n",
      " 6   Type            10840 non-null  object \n",
      " 7   Price           10841 non-null  object \n",
      " 8   Content Rating  10841 non-null  object \n",
      " 9   Genres          10840 non-null  object \n",
      " 10  Last Updated    10841 non-null  object \n",
      " 11  Current Ver     10833 non-null  object \n",
      " 12  Android Ver     10839 non-null  object \n",
      "dtypes: float64(1), int64(1), object(11)\n",
      "memory usage: 1.1+ MB\n"
     ]
    }
   ],
   "source": [
    "# Check the data \n",
    "df.info()"
   ]
  },
  {
   "cell_type": "code",
   "execution_count": 401,
   "id": "874b4ec5",
   "metadata": {},
   "outputs": [
    {
     "data": {
      "text/html": [
       "<div>\n",
       "<style scoped>\n",
       "    .dataframe tbody tr th:only-of-type {\n",
       "        vertical-align: middle;\n",
       "    }\n",
       "\n",
       "    .dataframe tbody tr th {\n",
       "        vertical-align: top;\n",
       "    }\n",
       "\n",
       "    .dataframe thead th {\n",
       "        text-align: right;\n",
       "    }\n",
       "</style>\n",
       "<table border=\"1\" class=\"dataframe\">\n",
       "  <thead>\n",
       "    <tr style=\"text-align: right;\">\n",
       "      <th></th>\n",
       "      <th>App</th>\n",
       "      <th>Category</th>\n",
       "      <th>Rating</th>\n",
       "      <th>Reviews</th>\n",
       "      <th>Size</th>\n",
       "      <th>Installs</th>\n",
       "      <th>Type</th>\n",
       "      <th>Price</th>\n",
       "      <th>Content Rating</th>\n",
       "      <th>Genres</th>\n",
       "      <th>Last Updated</th>\n",
       "      <th>Current Ver</th>\n",
       "      <th>Android Ver</th>\n",
       "    </tr>\n",
       "  </thead>\n",
       "  <tbody>\n",
       "    <tr>\n",
       "      <th>0</th>\n",
       "      <td>Command &amp; Conquer: Rivals</td>\n",
       "      <td>FAMILY</td>\n",
       "      <td>NaN</td>\n",
       "      <td>0</td>\n",
       "      <td>Varies with device</td>\n",
       "      <td>0</td>\n",
       "      <td>NaN</td>\n",
       "      <td>0</td>\n",
       "      <td>Everyone 10+</td>\n",
       "      <td>Strategy</td>\n",
       "      <td>28-Jun-18</td>\n",
       "      <td>Varies with device</td>\n",
       "      <td>Varies with device</td>\n",
       "    </tr>\n",
       "    <tr>\n",
       "      <th>1</th>\n",
       "      <td>Popsicle Launcher for Android P 9.0 launcher</td>\n",
       "      <td>PERSONALIZATION</td>\n",
       "      <td>NaN</td>\n",
       "      <td>0</td>\n",
       "      <td>5.5M</td>\n",
       "      <td>0+</td>\n",
       "      <td>Paid</td>\n",
       "      <td>$1.49</td>\n",
       "      <td>Everyone</td>\n",
       "      <td>Personalization</td>\n",
       "      <td>11-Jul-18</td>\n",
       "      <td>1.1</td>\n",
       "      <td>4.2 and up</td>\n",
       "    </tr>\n",
       "    <tr>\n",
       "      <th>2</th>\n",
       "      <td>Ak Parti Yardım Toplama</td>\n",
       "      <td>SOCIAL</td>\n",
       "      <td>NaN</td>\n",
       "      <td>0</td>\n",
       "      <td>8.7M</td>\n",
       "      <td>0+</td>\n",
       "      <td>Paid</td>\n",
       "      <td>$13.99</td>\n",
       "      <td>Teen</td>\n",
       "      <td>Social</td>\n",
       "      <td>28-Jul-17</td>\n",
       "      <td>3.4.4.3.3</td>\n",
       "      <td>4.1 and up</td>\n",
       "    </tr>\n",
       "    <tr>\n",
       "      <th>3</th>\n",
       "      <td>AP Series Solution Pro</td>\n",
       "      <td>FAMILY</td>\n",
       "      <td>NaN</td>\n",
       "      <td>0</td>\n",
       "      <td>7.4M</td>\n",
       "      <td>0+</td>\n",
       "      <td>Paid</td>\n",
       "      <td>$1.99</td>\n",
       "      <td>Everyone</td>\n",
       "      <td>Education</td>\n",
       "      <td>30-Jul-17</td>\n",
       "      <td>1.3</td>\n",
       "      <td>4.0 and up</td>\n",
       "    </tr>\n",
       "    <tr>\n",
       "      <th>4</th>\n",
       "      <td>Ain Arabic Kids Alif Ba ta</td>\n",
       "      <td>FAMILY</td>\n",
       "      <td>NaN</td>\n",
       "      <td>0</td>\n",
       "      <td>33M</td>\n",
       "      <td>0+</td>\n",
       "      <td>Paid</td>\n",
       "      <td>$2.99</td>\n",
       "      <td>Everyone</td>\n",
       "      <td>Education</td>\n",
       "      <td>15-Apr-16</td>\n",
       "      <td>1</td>\n",
       "      <td>3.0 and up</td>\n",
       "    </tr>\n",
       "    <tr>\n",
       "      <th>5</th>\n",
       "      <td>cronometra-br</td>\n",
       "      <td>PRODUCTIVITY</td>\n",
       "      <td>NaN</td>\n",
       "      <td>0</td>\n",
       "      <td>5.4M</td>\n",
       "      <td>0+</td>\n",
       "      <td>Paid</td>\n",
       "      <td>$154.99</td>\n",
       "      <td>Everyone</td>\n",
       "      <td>Productivity</td>\n",
       "      <td>24-Nov-17</td>\n",
       "      <td>1.0.0</td>\n",
       "      <td>4.1 and up</td>\n",
       "    </tr>\n",
       "  </tbody>\n",
       "</table>\n",
       "</div>"
      ],
      "text/plain": [
       "                                            App         Category  Rating  \\\n",
       "0                     Command & Conquer: Rivals           FAMILY     NaN   \n",
       "1  Popsicle Launcher for Android P 9.0 launcher  PERSONALIZATION     NaN   \n",
       "2                       Ak Parti Yardım Toplama           SOCIAL     NaN   \n",
       "3                        AP Series Solution Pro           FAMILY     NaN   \n",
       "4                    Ain Arabic Kids Alif Ba ta           FAMILY     NaN   \n",
       "5                                 cronometra-br     PRODUCTIVITY     NaN   \n",
       "\n",
       "   Reviews                Size Installs  Type     Price Content Rating  \\\n",
       "0        0  Varies with device        0   NaN         0   Everyone 10+   \n",
       "1        0                5.5M       0+  Paid    $1.49        Everyone   \n",
       "2        0                8.7M       0+  Paid   $13.99            Teen   \n",
       "3        0                7.4M       0+  Paid    $1.99        Everyone   \n",
       "4        0                 33M       0+  Paid    $2.99        Everyone   \n",
       "5        0                5.4M       0+  Paid  $154.99        Everyone   \n",
       "\n",
       "            Genres Last Updated         Current Ver         Android Ver  \n",
       "0         Strategy    28-Jun-18  Varies with device  Varies with device  \n",
       "1  Personalization    11-Jul-18                 1.1          4.2 and up  \n",
       "2           Social    28-Jul-17           3.4.4.3.3          4.1 and up  \n",
       "3        Education    30-Jul-17                 1.3          4.0 and up  \n",
       "4        Education    15-Apr-16                   1          3.0 and up  \n",
       "5     Productivity    24-Nov-17               1.0.0          4.1 and up  "
      ]
     },
     "execution_count": 401,
     "metadata": {},
     "output_type": "execute_result"
    }
   ],
   "source": [
    "# lets have a  look on the data\n",
    "df.head(6)"
   ]
  },
  {
   "cell_type": "code",
   "execution_count": 402,
   "id": "608ecae6",
   "metadata": {},
   "outputs": [
    {
     "data": {
      "text/html": [
       "<div>\n",
       "<style scoped>\n",
       "    .dataframe tbody tr th:only-of-type {\n",
       "        vertical-align: middle;\n",
       "    }\n",
       "\n",
       "    .dataframe tbody tr th {\n",
       "        vertical-align: top;\n",
       "    }\n",
       "\n",
       "    .dataframe thead th {\n",
       "        text-align: right;\n",
       "    }\n",
       "</style>\n",
       "<table border=\"1\" class=\"dataframe\">\n",
       "  <thead>\n",
       "    <tr style=\"text-align: right;\">\n",
       "      <th></th>\n",
       "      <th>App</th>\n",
       "      <th>Category</th>\n",
       "      <th>Rating</th>\n",
       "      <th>Reviews</th>\n",
       "      <th>Size</th>\n",
       "      <th>Installs</th>\n",
       "      <th>Type</th>\n",
       "      <th>Price</th>\n",
       "      <th>Content Rating</th>\n",
       "      <th>Genres</th>\n",
       "      <th>Last Updated</th>\n",
       "      <th>Current Ver</th>\n",
       "      <th>Android Ver</th>\n",
       "    </tr>\n",
       "  </thead>\n",
       "  <tbody>\n",
       "    <tr>\n",
       "      <th>284</th>\n",
       "      <td>Black People Meet Singles Date</td>\n",
       "      <td>DATING</td>\n",
       "      <td>3.9</td>\n",
       "      <td>10212</td>\n",
       "      <td>5.0M</td>\n",
       "      <td>1,000,000+</td>\n",
       "      <td>Free</td>\n",
       "      <td>0</td>\n",
       "      <td>Mature 17+</td>\n",
       "      <td>Dating</td>\n",
       "      <td>25-Jul-18</td>\n",
       "      <td>1.9.7</td>\n",
       "      <td>4.4 and up</td>\n",
       "    </tr>\n",
       "    <tr>\n",
       "      <th>829</th>\n",
       "      <td>Job Korea - Career Jobs</td>\n",
       "      <td>BUSINESS</td>\n",
       "      <td>4.3</td>\n",
       "      <td>10600</td>\n",
       "      <td>6.5M</td>\n",
       "      <td>1,000,000+</td>\n",
       "      <td>Free</td>\n",
       "      <td>0</td>\n",
       "      <td>Everyone</td>\n",
       "      <td>Business</td>\n",
       "      <td>1-Aug-18</td>\n",
       "      <td>2.5.6</td>\n",
       "      <td>4.0 and up</td>\n",
       "    </tr>\n",
       "    <tr>\n",
       "      <th>5303</th>\n",
       "      <td>Wallpapers FN Five seven</td>\n",
       "      <td>PERSONALIZATION</td>\n",
       "      <td>NaN</td>\n",
       "      <td>0</td>\n",
       "      <td>13M</td>\n",
       "      <td>10+</td>\n",
       "      <td>Free</td>\n",
       "      <td>0</td>\n",
       "      <td>Teen</td>\n",
       "      <td>Personalization</td>\n",
       "      <td>18-Apr-18</td>\n",
       "      <td>1</td>\n",
       "      <td>4.1 and up</td>\n",
       "    </tr>\n",
       "    <tr>\n",
       "      <th>2839</th>\n",
       "      <td>Tagged - Meet, Chat &amp; Dating</td>\n",
       "      <td>SOCIAL</td>\n",
       "      <td>4.1</td>\n",
       "      <td>486824</td>\n",
       "      <td>Varies with device</td>\n",
       "      <td>10,000,000+</td>\n",
       "      <td>Free</td>\n",
       "      <td>0</td>\n",
       "      <td>Mature 17+</td>\n",
       "      <td>Social</td>\n",
       "      <td>21-Jun-18</td>\n",
       "      <td>Varies with device</td>\n",
       "      <td>Varies with device</td>\n",
       "    </tr>\n",
       "    <tr>\n",
       "      <th>6018</th>\n",
       "      <td>AE GTO Racing</td>\n",
       "      <td>GAME</td>\n",
       "      <td>3.9</td>\n",
       "      <td>6988</td>\n",
       "      <td>35M</td>\n",
       "      <td>100,000+</td>\n",
       "      <td>Free</td>\n",
       "      <td>0</td>\n",
       "      <td>Everyone 10+</td>\n",
       "      <td>Racing</td>\n",
       "      <td>24-Sep-15</td>\n",
       "      <td>Varies with device</td>\n",
       "      <td>Varies with device</td>\n",
       "    </tr>\n",
       "    <tr>\n",
       "      <th>3708</th>\n",
       "      <td>Stocard - Rewards Cards Wallet</td>\n",
       "      <td>SHOPPING</td>\n",
       "      <td>4.6</td>\n",
       "      <td>284725</td>\n",
       "      <td>20M</td>\n",
       "      <td>10,000,000+</td>\n",
       "      <td>Free</td>\n",
       "      <td>0</td>\n",
       "      <td>Everyone</td>\n",
       "      <td>Shopping</td>\n",
       "      <td>31-Jul-18</td>\n",
       "      <td>7.2.1</td>\n",
       "      <td>4.1 and up</td>\n",
       "    </tr>\n",
       "    <tr>\n",
       "      <th>331</th>\n",
       "      <td>FXNOW: Movies, Shows &amp; Live TV</td>\n",
       "      <td>FAMILY</td>\n",
       "      <td>3.9</td>\n",
       "      <td>31552</td>\n",
       "      <td>Varies with device</td>\n",
       "      <td>1,000,000+</td>\n",
       "      <td>Free</td>\n",
       "      <td>0</td>\n",
       "      <td>Teen</td>\n",
       "      <td>Entertainment</td>\n",
       "      <td>23-Jul-18</td>\n",
       "      <td>Varies with device</td>\n",
       "      <td>4.4 and up</td>\n",
       "    </tr>\n",
       "    <tr>\n",
       "      <th>9868</th>\n",
       "      <td>EG Way Life</td>\n",
       "      <td>SOCIAL</td>\n",
       "      <td>NaN</td>\n",
       "      <td>0</td>\n",
       "      <td>1.1M</td>\n",
       "      <td>50+</td>\n",
       "      <td>Free</td>\n",
       "      <td>0</td>\n",
       "      <td>Everyone</td>\n",
       "      <td>Social</td>\n",
       "      <td>27-Apr-16</td>\n",
       "      <td>1</td>\n",
       "      <td>4.1 and up</td>\n",
       "    </tr>\n",
       "    <tr>\n",
       "      <th>4951</th>\n",
       "      <td>Chess of Blades (BL/Yaoi Game) (No VA)</td>\n",
       "      <td>FAMILY</td>\n",
       "      <td>4.8</td>\n",
       "      <td>4</td>\n",
       "      <td>23M</td>\n",
       "      <td>10+</td>\n",
       "      <td>Paid</td>\n",
       "      <td>$14.99</td>\n",
       "      <td>Teen</td>\n",
       "      <td>Casual</td>\n",
       "      <td>24-Jan-18</td>\n",
       "      <td>1.03</td>\n",
       "      <td>2.3.3 and up</td>\n",
       "    </tr>\n",
       "    <tr>\n",
       "      <th>1615</th>\n",
       "      <td>ReadEra – free ebook reader</td>\n",
       "      <td>BOOKS_AND_REFERENCE</td>\n",
       "      <td>4.8</td>\n",
       "      <td>47303</td>\n",
       "      <td>21M</td>\n",
       "      <td>1,000,000+</td>\n",
       "      <td>Free</td>\n",
       "      <td>0</td>\n",
       "      <td>Everyone</td>\n",
       "      <td>Books &amp; Reference</td>\n",
       "      <td>2-Jun-18</td>\n",
       "      <td>18.05.31+530</td>\n",
       "      <td>4.1 and up</td>\n",
       "    </tr>\n",
       "  </tbody>\n",
       "</table>\n",
       "</div>"
      ],
      "text/plain": [
       "                                         App             Category  Rating  \\\n",
       "284           Black People Meet Singles Date               DATING     3.9   \n",
       "829                  Job Korea - Career Jobs             BUSINESS     4.3   \n",
       "5303                Wallpapers FN Five seven      PERSONALIZATION     NaN   \n",
       "2839            Tagged - Meet, Chat & Dating               SOCIAL     4.1   \n",
       "6018                           AE GTO Racing                 GAME     3.9   \n",
       "3708          Stocard - Rewards Cards Wallet             SHOPPING     4.6   \n",
       "331           FXNOW: Movies, Shows & Live TV               FAMILY     3.9   \n",
       "9868                             EG Way Life               SOCIAL     NaN   \n",
       "4951  Chess of Blades (BL/Yaoi Game) (No VA)               FAMILY     4.8   \n",
       "1615             ReadEra – free ebook reader  BOOKS_AND_REFERENCE     4.8   \n",
       "\n",
       "      Reviews                Size     Installs  Type    Price Content Rating  \\\n",
       "284     10212                5.0M   1,000,000+  Free        0     Mature 17+   \n",
       "829     10600                6.5M   1,000,000+  Free        0       Everyone   \n",
       "5303        0                 13M          10+  Free        0           Teen   \n",
       "2839   486824  Varies with device  10,000,000+  Free        0     Mature 17+   \n",
       "6018     6988                 35M     100,000+  Free        0   Everyone 10+   \n",
       "3708   284725                 20M  10,000,000+  Free        0       Everyone   \n",
       "331     31552  Varies with device   1,000,000+  Free        0           Teen   \n",
       "9868        0                1.1M          50+  Free        0       Everyone   \n",
       "4951        4                 23M          10+  Paid  $14.99            Teen   \n",
       "1615    47303                 21M   1,000,000+  Free        0       Everyone   \n",
       "\n",
       "                 Genres Last Updated         Current Ver         Android Ver  \n",
       "284              Dating    25-Jul-18               1.9.7          4.4 and up  \n",
       "829            Business     1-Aug-18               2.5.6          4.0 and up  \n",
       "5303    Personalization    18-Apr-18                   1          4.1 and up  \n",
       "2839             Social    21-Jun-18  Varies with device  Varies with device  \n",
       "6018             Racing    24-Sep-15  Varies with device  Varies with device  \n",
       "3708           Shopping    31-Jul-18               7.2.1          4.1 and up  \n",
       "331       Entertainment    23-Jul-18  Varies with device          4.4 and up  \n",
       "9868             Social    27-Apr-16                   1          4.1 and up  \n",
       "4951             Casual    24-Jan-18                1.03        2.3.3 and up  \n",
       "1615  Books & Reference     2-Jun-18        18.05.31+530          4.1 and up  "
      ]
     },
     "execution_count": 402,
     "metadata": {},
     "output_type": "execute_result"
    }
   ],
   "source": [
    "# take samples from big dataset\n",
    "\n",
    "df.sample(10)"
   ]
  },
  {
   "cell_type": "code",
   "execution_count": 403,
   "id": "e702abe6",
   "metadata": {},
   "outputs": [
    {
     "data": {
      "text/html": [
       "<div>\n",
       "<style scoped>\n",
       "    .dataframe tbody tr th:only-of-type {\n",
       "        vertical-align: middle;\n",
       "    }\n",
       "\n",
       "    .dataframe tbody tr th {\n",
       "        vertical-align: top;\n",
       "    }\n",
       "\n",
       "    .dataframe thead th {\n",
       "        text-align: right;\n",
       "    }\n",
       "</style>\n",
       "<table border=\"1\" class=\"dataframe\">\n",
       "  <thead>\n",
       "    <tr style=\"text-align: right;\">\n",
       "      <th></th>\n",
       "      <th>Rating</th>\n",
       "      <th>Reviews</th>\n",
       "    </tr>\n",
       "  </thead>\n",
       "  <tbody>\n",
       "    <tr>\n",
       "      <th>count</th>\n",
       "      <td>9367.000000</td>\n",
       "      <td>1.084100e+04</td>\n",
       "    </tr>\n",
       "    <tr>\n",
       "      <th>mean</th>\n",
       "      <td>4.191513</td>\n",
       "      <td>4.441119e+05</td>\n",
       "    </tr>\n",
       "    <tr>\n",
       "      <th>std</th>\n",
       "      <td>0.515735</td>\n",
       "      <td>2.927629e+06</td>\n",
       "    </tr>\n",
       "    <tr>\n",
       "      <th>min</th>\n",
       "      <td>1.000000</td>\n",
       "      <td>0.000000e+00</td>\n",
       "    </tr>\n",
       "    <tr>\n",
       "      <th>25%</th>\n",
       "      <td>4.000000</td>\n",
       "      <td>3.800000e+01</td>\n",
       "    </tr>\n",
       "    <tr>\n",
       "      <th>50%</th>\n",
       "      <td>4.300000</td>\n",
       "      <td>2.094000e+03</td>\n",
       "    </tr>\n",
       "    <tr>\n",
       "      <th>75%</th>\n",
       "      <td>4.500000</td>\n",
       "      <td>5.476800e+04</td>\n",
       "    </tr>\n",
       "    <tr>\n",
       "      <th>max</th>\n",
       "      <td>5.000000</td>\n",
       "      <td>7.815831e+07</td>\n",
       "    </tr>\n",
       "  </tbody>\n",
       "</table>\n",
       "</div>"
      ],
      "text/plain": [
       "            Rating       Reviews\n",
       "count  9367.000000  1.084100e+04\n",
       "mean      4.191513  4.441119e+05\n",
       "std       0.515735  2.927629e+06\n",
       "min       1.000000  0.000000e+00\n",
       "25%       4.000000  3.800000e+01\n",
       "50%       4.300000  2.094000e+03\n",
       "75%       4.500000  5.476800e+04\n",
       "max       5.000000  7.815831e+07"
      ]
     },
     "execution_count": 403,
     "metadata": {},
     "output_type": "execute_result"
    }
   ],
   "source": [
    "\n",
    "df.describe()"
   ]
  },
  {
   "cell_type": "markdown",
   "id": "d8645b61",
   "metadata": {},
   "source": [
    "# Assignment: Write down all the numeric variables and make them numeric\n",
    "\n",
    "1. size\n",
    "2. install\n",
    "3. price"
   ]
  },
  {
   "cell_type": "code",
   "execution_count": 404,
   "id": "41a01ff6",
   "metadata": {},
   "outputs": [
    {
     "data": {
      "text/plain": [
       "Size\n",
       "Varies with device    1695\n",
       "11M                    198\n",
       "12M                    196\n",
       "14M                    194\n",
       "13M                    191\n",
       "                      ... \n",
       "251k                     1\n",
       "862k                     1\n",
       "554k                     1\n",
       "164k                     1\n",
       "562k                     1\n",
       "Name: count, Length: 461, dtype: int64"
      ]
     },
     "execution_count": 404,
     "metadata": {},
     "output_type": "execute_result"
    }
   ],
   "source": [
    "# to do that let's have a look on unique values\n",
    "\n",
    "df['Size'].value_counts()"
   ]
  },
  {
   "cell_type": "markdown",
   "id": "eff2e498",
   "metadata": {},
   "source": [
    "# 1. Size\n",
    "### Check that how many MBs are there in one KB? and how to calculate?\n",
    "1. Convert KBs into M\n",
    "2. than remove M fromm all numbers\n",
    "3. Handle `varies with device`."
   ]
  },
  {
   "cell_type": "code",
   "execution_count": 405,
   "id": "bdd3a6d1",
   "metadata": {},
   "outputs": [
    {
     "data": {
      "text/plain": [
       "np.int64(0)"
      ]
     },
     "execution_count": 405,
     "metadata": {},
     "output_type": "execute_result"
    }
   ],
   "source": [
    "df['Size'].isnull().sum()"
   ]
  },
  {
   "cell_type": "code",
   "execution_count": 406,
   "id": "dae6f178",
   "metadata": {},
   "outputs": [],
   "source": [
    "# 1. Convert KBs into M\n",
    "# 2. than remove M fromm all numbers\n",
    "# 3. Handle `varies with device`.\n",
    "\n",
    "# Function to convert size\n",
    "def convert_size(size):\n",
    "    if 'k' in size:\n",
    "        return float(size.replace('k', '')) / 1024  # Convert kB to MB\n",
    "    elif 'M' in size:\n",
    "        return float(size.replace('M', ''))  # Already in MB\n",
    "    else:\n",
    "        return np.nan  # Handle non-numeric values\n",
    "\n",
    "# Apply function to the Size column\n",
    "df['Size'] = df['Size'].astype(str).apply(convert_size)\n"
   ]
  },
  {
   "cell_type": "code",
   "execution_count": 417,
   "id": "84b77858",
   "metadata": {},
   "outputs": [
    {
     "data": {
      "text/plain": [
       "array([           nan, 5.50000000e+00, 8.70000000e+00, 7.40000000e+00,\n",
       "       3.30000000e+01, 5.40000000e+00, 5.90000000e+00, 1.00000000e+01,\n",
       "       2.10000000e+00, 1.20000000e+00, 5.60000000e+01, 3.20000000e+00,\n",
       "       2.60000000e+00, 1.40000000e+00, 4.00000000e+01, 1.30000000e+01,\n",
       "       7.60000000e+01, 3.80000000e+00, 3.30000000e+00, 3.90000000e+00,\n",
       "       3.20000000e+01, 1.90000000e+01, 1.50000000e+01, 2.10000000e+01,\n",
       "       3.00000000e+00, 5.30000000e+01, 4.60000000e+01, 5.50000000e+01,\n",
       "       2.70000000e+00, 5.80000000e+00, 1.40000000e+01, 9.80000000e+01,\n",
       "       9.60000000e+01, 9.80000000e+00, 5.00000000e+01, 5.10000000e+00,\n",
       "       5.10000000e+01, 2.90000000e+01, 3.70000000e+01, 1.80000000e+01,\n",
       "       7.70000000e+01, 2.70000000e+01, 1.70000000e+01, 5.00000000e+00,\n",
       "       1.80000000e+00, 7.30000000e+00, 6.10000000e+01, 2.30000000e+01,\n",
       "       6.10000000e+00, 8.20000000e+00, 4.10000000e+01, 5.31250000e-01,\n",
       "       4.40000000e+01, 7.00000000e+00, 8.20000000e+01, 2.80000000e+01,\n",
       "       1.20000000e+01, 6.00000000e+01, 1.10000000e+01, 6.80000000e+00,\n",
       "       2.50000000e+01, 3.10000000e+00, 3.90000000e+01, 2.20000000e+01,\n",
       "       9.00000000e+00, 4.30000000e+01, 2.40000000e+00, 7.90000000e+00,\n",
       "       5.20000000e+00, 3.10000000e+01, 6.40000000e+01, 4.90000000e+01,\n",
       "       3.50000000e+01, 7.20000000e+00, 1.50000000e+00, 2.00000000e+01,\n",
       "       8.40000000e+00, 2.80000000e+00, 6.50000000e+00, 3.00000000e+01,\n",
       "       1.70000000e+00, 2.40000000e+01, 5.60000000e+00, 2.50000000e+00,\n",
       "       8.30000000e+00, 3.60000000e+01, 2.60000000e+01, 2.85156250e-01,\n",
       "       7.80000000e+01, 9.20000000e+00, 9.50000000e+01, 2.20000000e+00,\n",
       "       8.50000000e+01, 3.80000000e+01, 4.50000000e+01, 3.40000000e+01,\n",
       "       1.60000000e+01, 8.40000000e+01, 4.70000000e+01, 2.47070312e-01,\n",
       "       9.10000000e+00, 9.50000000e+00, 5.80000000e+01, 5.40000000e+01,\n",
       "       7.10000000e+01, 5.30000000e+00, 8.80000000e+00, 8.30000000e+01,\n",
       "       6.90000000e+01, 6.70000000e+01, 3.60000000e+00, 6.20000000e+01,\n",
       "       2.90000000e+00, 6.30000000e+01, 1.96289062e-01, 4.30000000e+00,\n",
       "       6.60000000e+00, 4.80000000e+01, 7.20000000e+01, 6.60000000e+01,\n",
       "       1.15234375e-01, 4.50000000e+00, 4.20000000e+01, 5.70000000e+01,\n",
       "       7.60000000e+00, 6.20000000e+00, 9.70000000e+01, 4.90000000e+00,\n",
       "       9.90000000e+00, 5.20000000e+01, 4.60000000e+00, 5.70000000e+00,\n",
       "       8.50000000e+00, 1.00000000e+02, 6.99218750e-01, 7.70000000e+00,\n",
       "       7.40000000e+01, 8.80000000e+01, 8.10000000e+01, 3.40000000e+00,\n",
       "       9.90000000e+01, 6.50000000e+01, 1.07421875e-02, 1.90000000e+00,\n",
       "       1.60000000e+00, 6.79687500e-01, 6.00000000e+00, 9.08203125e-02,\n",
       "       8.00000000e+01, 4.20000000e+00, 1.30000000e+00, 3.42773438e-01,\n",
       "       7.00000000e+01, 6.70000000e+00, 3.70000000e+00, 9.10000000e+01,\n",
       "       9.30000000e+00, 4.10000000e+00, 7.10000000e+00, 6.90000000e+00,\n",
       "       5.90000000e+01, 7.71484375e-02, 8.10000000e+00, 9.70000000e+00,\n",
       "       9.40000000e+01, 2.00000000e+00, 8.39843750e-01, 3.55468750e-01,\n",
       "       3.50000000e+00, 8.60000000e+00, 4.40000000e+00, 2.30000000e+00,\n",
       "       9.60000000e+00, 6.96289062e-01, 4.00000000e+00, 5.27343750e-01,\n",
       "       9.20000000e+01, 8.90000000e+01, 8.27148438e-01, 7.30000000e+01,\n",
       "       6.30000000e+00, 7.90000000e+01, 7.50000000e+00, 4.70000000e+00,\n",
       "       8.00000000e+00, 8.51562500e-01, 9.58984375e-01, 6.40000000e+00,\n",
       "       4.80000000e+00, 8.44726562e-01, 6.80000000e+01, 7.80000000e+00,\n",
       "       8.60000000e+01, 8.90000000e+00, 9.40000000e+00, 1.37695312e-01,\n",
       "       4.86328125e-01, 5.10742188e-01, 3.80859375e-02, 8.94531250e-01,\n",
       "       2.40234375e-01, 1.18164062e-01, 2.59765625e-01, 1.87500000e-01,\n",
       "       4.84375000e-01, 3.69140625e-01, 5.78125000e-01, 2.63671875e-01,\n",
       "       4.66796875e-01, 8.00781250e-02, 2.73437500e-01, 2.53906250e-02,\n",
       "       1.66015625e-02, 1.36718750e-02, 3.09570312e-01, 2.63671875e-02,\n",
       "       2.73437500e-02, 9.40429688e-01, 3.32031250e-02, 2.34375000e-02,\n",
       "       9.30000000e+01, 4.49218750e-01, 5.98632812e-01, 2.01171875e-01,\n",
       "       4.07226562e-01, 6.74804688e-01, 9.28710938e-01, 9.70703125e-01,\n",
       "       2.83203125e-02, 1.10000000e+00, 2.52929688e-01, 1.00000000e+00,\n",
       "       5.93750000e-01, 6.04492188e-01, 3.26171875e-01, 7.25585938e-01,\n",
       "       7.31445312e-01, 8.60351562e-01, 7.03125000e-02, 5.86914062e-01,\n",
       "       1.05468750e-01, 3.22265625e-02, 9.19921875e-01, 6.42578125e-01,\n",
       "       4.29687500e-02, 6.54296875e-02, 2.32421875e-01, 5.36132812e-01,\n",
       "       8.76953125e-01, 7.50000000e+01, 8.64257812e-01, 6.09375000e-01,\n",
       "       5.12695312e-01, 8.33007812e-01, 1.71875000e-01, 8.70000000e+01,\n",
       "       6.78710938e-01, 5.38085938e-01, 9.00000000e+01, 3.14453125e-01,\n",
       "       4.98046875e-02, 3.62304688e-01, 1.81640625e-01, 2.20703125e-01,\n",
       "       2.50976562e-01, 1.19140625e-01, 7.91992188e-01, 9.53125000e-01,\n",
       "       4.04296875e-01, 9.34570312e-01, 4.10156250e-01, 7.61718750e-02,\n",
       "       9.16992188e-01, 3.66210938e-01, 6.97265625e-01, 4.02343750e-01,\n",
       "       4.18945312e-01, 2.44140625e-02, 7.65625000e-01, 5.13671875e-01,\n",
       "       9.57031250e-01, 2.05078125e-01, 3.27148438e-01, 1.49414062e-01,\n",
       "       9.08203125e-01, 4.31640625e-01, 7.63671875e-01, 7.10937500e-01,\n",
       "       7.96875000e-01, 7.68554688e-01, 9.62890625e-01, 3.74023438e-01,\n",
       "       7.92968750e-01, 4.48242188e-01, 5.42968750e-01, 8.77929688e-01,\n",
       "       2.81250000e-01, 6.11328125e-01, 1.88476562e-01, 6.60156250e-01,\n",
       "       6.87500000e-01, 7.60742188e-01, 5.66406250e-02, 4.39453125e-02,\n",
       "       6.83593750e-02, 3.90625000e-01, 1.98242188e-01, 9.02343750e-01,\n",
       "       4.43359375e-01, 3.44726562e-01, 2.39257812e-01, 3.21289062e-01,\n",
       "       1.65039062e-01, 6.39648438e-01, 8.82812500e-01, 4.61914062e-01,\n",
       "       2.37304688e-01, 3.11523438e-01, 1.86523438e-01, 9.25781250e-01,\n",
       "       5.01953125e-01, 2.31445312e-01, 2.62695312e-01, 9.17968750e-01,\n",
       "       6.47460938e-01, 5.05859375e-01, 8.81835938e-01, 2.24609375e-02,\n",
       "       6.27929688e-01, 8.88671875e-02, 7.66601562e-01, 3.94531250e-01,\n",
       "       1.91406250e-01, 3.41796875e-01, 7.90039062e-01, 4.01367188e-01,\n",
       "       7.28515625e-01, 5.68359375e-01, 5.95703125e-02, 5.94726562e-01,\n",
       "       1.95312500e-02, 7.03125000e-01, 3.15429688e-01, 8.92578125e-01,\n",
       "       7.12890625e-02, 2.04101562e-01, 5.83007812e-01, 7.59765625e-01,\n",
       "       3.77929688e-01, 4.56054688e-01, 1.00585938e-01, 7.98828125e-01,\n",
       "       9.30664062e-01, 1.85546875e-01, 1.68945312e-01, 2.28515625e-01,\n",
       "       4.47265625e-01, 2.86132812e-01, 7.61718750e-01, 8.71093750e-01,\n",
       "       7.91015625e-02, 8.20312500e-01, 5.03906250e-01, 5.37109375e-02,\n",
       "       7.56835938e-01, 4.88281250e-01, 8.40820312e-01, 1.75781250e-02,\n",
       "       8.80859375e-01, 4.63867188e-01, 1.67968750e-01, 6.88476562e-01,\n",
       "       5.55664062e-01, 2.16796875e-01, 9.38476562e-01, 6.26953125e-01,\n",
       "       8.99414062e-01, 8.53515625e-01, 9.58007812e-01, 9.47265625e-01,\n",
       "       6.40625000e-01, 1.53320312e-01, 2.26562500e-01, 4.00390625e-02,\n",
       "       3.64257812e-01, 2.03125000e-01, 2.22656250e-01, 1.66015625e-01,\n",
       "       1.39648438e-01, 1.40625000e-01, 3.10546875e-01, 7.00195312e-01,\n",
       "       1.56250000e-01, 9.42382812e-01, 9.52148438e-01, 4.87304688e-01,\n",
       "       8.58398438e-01, 2.34375000e-01, 7.82226562e-01, 5.27343750e-02,\n",
       "       2.14843750e-01, 8.22265625e-01, 4.19921875e-01, 4.26757812e-01,\n",
       "       5.85937500e-01, 3.05664062e-01, 5.32226562e-01, 2.45117188e-01,\n",
       "       8.41796875e-01, 5.41015625e-01, 1.60156250e-01, 2.33398438e-01,\n",
       "       3.00781250e-01, 7.04101562e-01, 4.94140625e-01, 2.76367188e-01,\n",
       "       4.58984375e-01, 7.53906250e-01, 1.95312500e-01, 6.71875000e-01,\n",
       "       2.98828125e-01, 1.57226562e-01, 2.15820312e-01, 2.13867188e-01,\n",
       "       3.06640625e-01, 7.12890625e-01, 5.83984375e-01, 4.68750000e-02,\n",
       "       1.70898438e-01, 4.33593750e-01, 1.13281250e-01, 3.01757812e-01,\n",
       "       6.31835938e-01, 4.73632812e-01, 7.22656250e-02, 5.48828125e-01,\n",
       "       2.35351562e-01, 5.39062500e-01, 8.30078125e-03, 7.38281250e-01,\n",
       "       8.17382812e-01, 6.14257812e-01, 8.69140625e-02, 4.99023438e-01,\n",
       "       6.66992188e-01, 1.50390625e-01, 4.11132812e-01, 8.91601562e-01,\n",
       "       9.47265625e-02, 9.96093750e-01, 5.71289062e-01, 4.88281250e-02,\n",
       "       8.98437500e-01, 8.66210938e-01, 6.21093750e-01, 3.67187500e-01,\n",
       "       8.36914062e-01, 9.31640625e-01, 7.36328125e-01, 9.68750000e-01])"
      ]
     },
     "execution_count": 417,
     "metadata": {},
     "output_type": "execute_result"
    }
   ],
   "source": [
    "df[\"Size\"].unique()"
   ]
  },
  {
   "cell_type": "markdown",
   "id": "711453f0",
   "metadata": {},
   "source": [
    "## 2. Install\n",
    "\n",
    "1. removing the ',' and '+'\n",
    "2. converting the from str to integer"
   ]
  },
  {
   "cell_type": "code",
   "execution_count": 408,
   "id": "d4c88ebc",
   "metadata": {},
   "outputs": [
    {
     "data": {
      "text/plain": [
       "array(['0', '0+', '1,000,000,000+', '1,000,000+', '1,000+', '1+',\n",
       "       '10,000,000+', '10,000+', '10+', '100,000,000+', '100,000+',\n",
       "       '100+', '5,000,000+', '5,000+', '5+', '50,000,000+', '50,000+',\n",
       "       '50+', '500,000,000+', '500,000+', '500+'], dtype=object)"
      ]
     },
     "execution_count": 408,
     "metadata": {},
     "output_type": "execute_result"
    }
   ],
   "source": [
    "# Before Filtering\n",
    "df['Installs'].unique()"
   ]
  },
  {
   "cell_type": "code",
   "execution_count": 409,
   "id": "02445555",
   "metadata": {},
   "outputs": [
    {
     "data": {
      "text/plain": [
       "App                object\n",
       "Category           object\n",
       "Rating            float64\n",
       "Reviews             int64\n",
       "Size              float64\n",
       "Installs            int64\n",
       "Type               object\n",
       "Price              object\n",
       "Content Rating     object\n",
       "Genres             object\n",
       "Last Updated       object\n",
       "Current Ver        object\n",
       "Android Ver        object\n",
       "dtype: object"
      ]
     },
     "execution_count": 409,
     "metadata": {},
     "output_type": "execute_result"
    }
   ],
   "source": [
    "\n",
    "# Removing the ',' and '+'\n",
    "df['Installs']=df['Installs'].str.replace(',', '')\n",
    "df['Installs'] = df['Installs'].str.replace('+', '')\n",
    "\n",
    "# Type casting/conversion\n",
    "df['Installs'] = df['Installs'].astype('int64')\n",
    "\n",
    "# check data types\n",
    "df.dtypes"
   ]
  },
  {
   "cell_type": "code",
   "execution_count": 410,
   "id": "6ba92044",
   "metadata": {},
   "outputs": [
    {
     "data": {
      "text/plain": [
       "array([         0, 1000000000,    1000000,       1000,          1,\n",
       "         10000000,      10000,         10,  100000000,     100000,\n",
       "              100,    5000000,       5000,          5,   50000000,\n",
       "            50000,         50,  500000000,     500000,        500])"
      ]
     },
     "execution_count": 410,
     "metadata": {},
     "output_type": "execute_result"
    }
   ],
   "source": [
    "# After Filtering\n",
    "df['Installs'].unique()"
   ]
  },
  {
   "cell_type": "markdown",
   "id": "f6fc766a",
   "metadata": {},
   "source": [
    "## do it as numeric column or group that into different group following binning method"
   ]
  },
  {
   "cell_type": "markdown",
   "id": "9cfa7cc3",
   "metadata": {},
   "source": [
    "### How to handle Price?"
   ]
  },
  {
   "cell_type": "code",
   "execution_count": 411,
   "id": "20675284",
   "metadata": {},
   "outputs": [
    {
     "data": {
      "text/plain": [
       "array(['0', '$1.49 ', '$13.99 ', '$1.99 ', '$2.99 ', '$154.99 ', '$3.99 ',\n",
       "       '$200.00 ', '$30.99 ', '$394.99 ', '$399.99 ', '$2.49 ', '$0.99 ',\n",
       "       '$5.99 ', '$6.99 ', '$4.99 ', '$9.99 ', '$379.99 ', '$29.99 ',\n",
       "       '$15.46 ', '$10.99 ', '$2.56 ', '$33.99 ', '$19.99 ', '$8.49 ',\n",
       "       '$14.99 ', '$4.84 ', '$1.29 ', '$7.49 ', '$1.50 ', '$1.70 ',\n",
       "       '$1.61 ', '$37.99 ', '$16.99 ', '$4.49 ', '$5.49 ', '$3.08 ',\n",
       "       '$7.99 ', '$79.99 ', '$4.29 ', '$19.40 ', '$3.49 ', '$10.00 ',\n",
       "       '$74.99 ', '$109.99 ', '$28.99 ', '$400.00 ', '$389.99 ',\n",
       "       '$299.99 ', '$3.28 ', '$24.99 ', '$1.20 ', '$11.99 ', '$1.59 ',\n",
       "       '$2.95 ', '$1.97 ', '$17.99 ', '$18.99 ', '$12.99 ', '$2.59 ',\n",
       "       '$3.90 ', '$2.50 ', '$3.04 ', '$2.00 ', '$25.99 ', '$46.99 ',\n",
       "       '$4.80 ', '$1.96 ', '$89.99 ', '$3.61 ', '$6.49 ', '$3.95 ',\n",
       "       '$8.99 ', '$9.00 ', '$2.90 ', '$4.59 ', '$39.99 ', '$3.02 ',\n",
       "       '$3.88 ', '$14.00 ', '$5.00 ', '$19.90 ', '$1.26 ', '$4.60 ',\n",
       "       '$1.00 ', '$4.77 ', '$1.76 ', '$1.75 ', '$4.85 ', '$2.60 ',\n",
       "       '$1.04 ', '$15.99 '], dtype=object)"
      ]
     },
     "execution_count": 411,
     "metadata": {},
     "output_type": "execute_result"
    }
   ],
   "source": [
    "# Before filtering\n",
    "\n",
    "# Unique values of Price column\n",
    "df['Price'].unique()"
   ]
  },
  {
   "cell_type": "code",
   "execution_count": 412,
   "id": "5269dfc6",
   "metadata": {},
   "outputs": [
    {
     "data": {
      "text/plain": [
       "np.int64(0)"
      ]
     },
     "execution_count": 412,
     "metadata": {},
     "output_type": "execute_result"
    }
   ],
   "source": [
    "# Checking sum of null values in Pric column\n",
    "df['Price'].isnull().sum()"
   ]
  },
  {
   "cell_type": "code",
   "execution_count": 413,
   "id": "36c98a1c",
   "metadata": {},
   "outputs": [
    {
     "data": {
      "text/plain": [
       "App                object\n",
       "Category           object\n",
       "Rating            float64\n",
       "Reviews             int64\n",
       "Size              float64\n",
       "Installs            int64\n",
       "Type               object\n",
       "Price             float64\n",
       "Content Rating     object\n",
       "Genres             object\n",
       "Last Updated       object\n",
       "Current Ver        object\n",
       "Android Ver        object\n",
       "dtype: object"
      ]
     },
     "execution_count": 413,
     "metadata": {},
     "output_type": "execute_result"
    }
   ],
   "source": [
    "# removing the '$' and ' ' from the specific column of dataset\n",
    "\n",
    "df[\"Price\"] = df['Price'].str.replace('$','').str.replace(' ','')\n",
    "\n",
    "# Type casting/ conversion\n",
    "df['Price'] = df['Price'].astype('float64')\n",
    "\n",
    "df.dtypes"
   ]
  },
  {
   "cell_type": "code",
   "execution_count": 414,
   "id": "f8cbe3e7",
   "metadata": {},
   "outputs": [
    {
     "data": {
      "text/plain": [
       "array([  0.  ,   1.49,  13.99,   1.99,   2.99, 154.99,   3.99, 200.  ,\n",
       "        30.99, 394.99, 399.99,   2.49,   0.99,   5.99,   6.99,   4.99,\n",
       "         9.99, 379.99,  29.99,  15.46,  10.99,   2.56,  33.99,  19.99,\n",
       "         8.49,  14.99,   4.84,   1.29,   7.49,   1.5 ,   1.7 ,   1.61,\n",
       "        37.99,  16.99,   4.49,   5.49,   3.08,   7.99,  79.99,   4.29,\n",
       "        19.4 ,   3.49,  10.  ,  74.99, 109.99,  28.99, 400.  , 389.99,\n",
       "       299.99,   3.28,  24.99,   1.2 ,  11.99,   1.59,   2.95,   1.97,\n",
       "        17.99,  18.99,  12.99,   2.59,   3.9 ,   2.5 ,   3.04,   2.  ,\n",
       "        25.99,  46.99,   4.8 ,   1.96,  89.99,   3.61,   6.49,   3.95,\n",
       "         8.99,   9.  ,   2.9 ,   4.59,  39.99,   3.02,   3.88,  14.  ,\n",
       "         5.  ,  19.9 ,   1.26,   4.6 ,   1.  ,   4.77,   1.76,   1.75,\n",
       "         4.85,   2.6 ,   1.04,  15.99])"
      ]
     },
     "execution_count": 414,
     "metadata": {},
     "output_type": "execute_result"
    }
   ],
   "source": [
    "# After Filtering\n",
    "\n",
    "# unique values of Price column\n",
    "df['Price'].unique()"
   ]
  },
  {
   "cell_type": "markdown",
   "id": "1c4bbbc0",
   "metadata": {},
   "source": [
    "## Remove $ sign from all columns using pandas"
   ]
  },
  {
   "cell_type": "code",
   "execution_count": 415,
   "id": "46957b71",
   "metadata": {},
   "outputs": [
    {
     "data": {
      "text/plain": [
       "Type\n",
       "Free    10040\n",
       "Paid      800\n",
       "Name: count, dtype: int64"
      ]
     },
     "execution_count": 415,
     "metadata": {},
     "output_type": "execute_result"
    }
   ],
   "source": [
    "df['Type'].value_counts()"
   ]
  },
  {
   "cell_type": "code",
   "execution_count": 416,
   "id": "ea4698a9",
   "metadata": {},
   "outputs": [
    {
     "data": {
      "text/plain": [
       "np.int64(1)"
      ]
     },
     "execution_count": 416,
     "metadata": {},
     "output_type": "execute_result"
    }
   ],
   "source": [
    "df['Type'].isnull().sum()"
   ]
  }
 ],
 "metadata": {
  "kernelspec": {
   "display_name": "myenv",
   "language": "python",
   "name": "python3"
  },
  "language_info": {
   "codemirror_mode": {
    "name": "ipython",
    "version": 3
   },
   "file_extension": ".py",
   "mimetype": "text/x-python",
   "name": "python",
   "nbconvert_exporter": "python",
   "pygments_lexer": "ipython3",
   "version": "3.12.9"
  }
 },
 "nbformat": 4,
 "nbformat_minor": 5
}
